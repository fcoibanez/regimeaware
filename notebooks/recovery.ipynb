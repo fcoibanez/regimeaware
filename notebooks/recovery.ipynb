{
 "cells": [
  {
   "cell_type": "code",
   "execution_count": 1,
   "metadata": {},
   "outputs": [],
   "source": [
    "import numpy as np\n",
    "import matplotlib.pyplot as plt\n",
    "import pandas as pd\n",
    "from hmmlearn.hmm import GaussianHMM\n",
    "\n",
    "n_states = 3"
   ]
  },
  {
   "cell_type": "code",
   "execution_count": 14,
   "metadata": {},
   "outputs": [
    {
     "name": "stdout",
     "output_type": "stream",
     "text": [
      "[[ 0.0102  0.003  -0.0004  0.0027 -0.0003]\n",
      " [ 0.0384  0.0115 -0.0315 -0.0044 -0.0208]\n",
      " [-0.0306 -0.0063  0.0353  0.0073  0.0278]]\n",
      "[[[0.0011 0.     0.     0.     0.    ]\n",
      "  [0.     0.0006 0.     0.     0.    ]\n",
      "  [0.     0.     0.0004 0.     0.    ]\n",
      "  [0.     0.     0.     0.0002 0.    ]\n",
      "  [0.     0.     0.     0.     0.0002]]\n",
      "\n",
      " [[0.0037 0.     0.     0.     0.    ]\n",
      "  [0.     0.0029 0.     0.     0.    ]\n",
      "  [0.     0.     0.002  0.     0.    ]\n",
      "  [0.     0.     0.     0.0018 0.    ]\n",
      "  [0.     0.     0.     0.     0.0007]]\n",
      "\n",
      " [[0.0031 0.     0.     0.     0.    ]\n",
      "  [0.     0.0015 0.     0.     0.    ]\n",
      "  [0.     0.     0.001  0.     0.    ]\n",
      "  [0.     0.     0.     0.0012 0.    ]\n",
      "  [0.     0.     0.     0.     0.0005]]]\n",
      "[[0.8941 0.0326 0.0734]\n",
      " [0.3089 0.3903 0.3008]\n",
      " [0.2739 0.1894 0.5367]]\n",
      "[1. 0. 0.]\n"
     ]
    }
   ],
   "source": [
    "from datetime import datetime\n",
    "from regimeaware.routines import cfg\n",
    "import warnings\n",
    "warnings.filterwarnings('ignore')\n",
    "\n",
    "cfg.data_fldr = r\"C:\\Users\\franc\\My Drive\\bin\\regimeaware\\data\"\n",
    "dt = datetime(2023, 12, 31)\n",
    "X = pd.read_pickle(f'{cfg.data_fldr}/ff.pkl').loc[:dt, cfg.factor_set]\n",
    "\n",
    "mdl = GaussianHMM(\n",
    "    n_components=n_states,\n",
    "    covariance_type=\"diag\",\n",
    "    random_state=cfg.hm_rs,\n",
    "    min_covar=cfg.hm_min_covar,\n",
    "    tol=cfg.hm_tol,\n",
    "    implementation=cfg.hm_implementation\n",
    ")\n",
    "mdl.fit(X)\n",
    "\n",
    "# Parameters\n",
    "hm_mu = np.round(mdl.means_, 4)\n",
    "hm_covars = np.round(mdl.covars_, 4)\n",
    "hm_transmat = np.round(mdl.transmat_, 4)\n",
    "hm_startprob = np.round(mdl.startprob_, 4)\n",
    "\n",
    "print(hm_mu)\n",
    "print(hm_covars)\n",
    "print(hm_transmat)\n",
    "print(hm_startprob)"
   ]
  },
  {
   "cell_type": "code",
   "execution_count": null,
   "metadata": {},
   "outputs": [],
   "source": [
    "hm_mu = np.array([\n",
    "    [0.0102,  0.003,  -0.0004,  0.0027, -0.0003],\n",
    "    [0.0384,  0.0115, -0.0315, -0.0044, -0.0208],\n",
    "    [-0.0306, -0.0063,  0.0353,  0.0073,  0.0278],\n",
    "])\n",
    "\n",
    "hm_covars = np.array([\n",
    "    [\n",
    "        [0.0011, 0.,     0.,     0.,     0.,    ],\n",
    "        [0.,     0.0006, 0.,     0.,     0.,    ],\n",
    "        [0.,     0.,     0.0004, 0.,     0.,    ],\n",
    "        [0.,     0.,     0.,     0.0002, 0.,    ],\n",
    "        [0.,     0.,     0.,     0.,     0.0002,],\n",
    "    ],\n",
    "\n",
    "    [\n",
    "        [0.0037, 0.,     0.,     0.,     0.,    ],\n",
    "        [0.,     0.0029, 0.,     0.,     0.,    ],\n",
    "        [0.,     0.,     0.002,  0.,     0.,    ],\n",
    "        [0.,     0.,     0.,     0.0018, 0.,    ],\n",
    "        [0.,     0.,     0.,     0.,     0.0007,],\n",
    "    ],\n",
    "\n",
    "    [\n",
    "        [0.0031, 0.,     0.,     0.,     0.,    ],\n",
    "        [0.,     0.0015, 0.,     0.,     0.,    ],\n",
    "        [0.,     0.,     0.001,  0.,     0.,    ],\n",
    "        [0.,     0.,     0.,     0.0012, 0.,    ],\n",
    "        [0.,     0.,     0.,     0.,     0.0005,],\n",
    "    ]\n",
    "])\n",
    "\n",
    "hm_transmat = [\n",
    "    [0.8941, 0.0326, 0.0734],\n",
    "    [0.3089, 0.3903, 0.3008],\n",
    "    [0.2739, 0.1894, 0.5367],\n",
    "]\n",
    "\n",
    "hm_startprob = np.array([1. 0. 0.])"
   ]
  }
 ],
 "metadata": {
  "kernelspec": {
   "display_name": "research",
   "language": "python",
   "name": "python3"
  },
  "language_info": {
   "codemirror_mode": {
    "name": "ipython",
    "version": 3
   },
   "file_extension": ".py",
   "mimetype": "text/x-python",
   "name": "python",
   "nbconvert_exporter": "python",
   "pygments_lexer": "ipython3",
   "version": "3.11.4"
  }
 },
 "nbformat": 4,
 "nbformat_minor": 2
}
